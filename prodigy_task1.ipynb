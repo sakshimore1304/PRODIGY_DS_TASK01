{
 "cells": [
  {
   "cell_type": "markdown",
   "id": "519e6ad2",
   "metadata": {},
   "source": [
    "# VISUALIZING THE DISTRIBUTION OF A CATEGORICAL OR CONTINOUS VARIBLE"
   ]
  },
  {
   "cell_type": "markdown",
   "id": "0ae18c04",
   "metadata": {},
   "source": [
    "#### for this , I have used the Titanic dataset from kaggle.com"
   ]
  },
  {
   "cell_type": "markdown",
   "id": "f6f80fec",
   "metadata": {},
   "source": [
    "importing all the required libraries"
   ]
  },
  {
   "cell_type": "code",
   "execution_count": 42,
   "id": "7d3d9171",
   "metadata": {},
   "outputs": [],
   "source": [
    "import pandas as pd  \n",
    "import numpy as np   \n",
    "import matplotlib.pyplot as plt\n",
    "import seaborn as sns\n",
    "%matplotlib inline\n",
    "sns.set_style('darkgrid')"
   ]
  },
  {
   "cell_type": "markdown",
   "id": "9dcf8a85",
   "metadata": {},
   "source": [
    "loading the dataset"
   ]
  },
  {
   "cell_type": "code",
   "execution_count": 43,
   "id": "6161e34b",
   "metadata": {},
   "outputs": [],
   "source": [
    "data=pd.read_csv('SVMtrain.csv')"
   ]
  },
  {
   "cell_type": "markdown",
   "id": "96e98f9a",
   "metadata": {},
   "source": [
    "displaying the first five rows using the head function"
   ]
  },
  {
   "cell_type": "code",
   "execution_count": 44,
   "id": "11df3075",
   "metadata": {},
   "outputs": [
    {
     "data": {
      "text/html": [
       "<div>\n",
       "<style scoped>\n",
       "    .dataframe tbody tr th:only-of-type {\n",
       "        vertical-align: middle;\n",
       "    }\n",
       "\n",
       "    .dataframe tbody tr th {\n",
       "        vertical-align: top;\n",
       "    }\n",
       "\n",
       "    .dataframe thead th {\n",
       "        text-align: right;\n",
       "    }\n",
       "</style>\n",
       "<table border=\"1\" class=\"dataframe\">\n",
       "  <thead>\n",
       "    <tr style=\"text-align: right;\">\n",
       "      <th></th>\n",
       "      <th>PassengerId</th>\n",
       "      <th>Survived</th>\n",
       "      <th>Pclass</th>\n",
       "      <th>Sex</th>\n",
       "      <th>Age</th>\n",
       "      <th>SibSp</th>\n",
       "      <th>Parch</th>\n",
       "      <th>Fare</th>\n",
       "      <th>Embarked</th>\n",
       "    </tr>\n",
       "  </thead>\n",
       "  <tbody>\n",
       "    <tr>\n",
       "      <th>0</th>\n",
       "      <td>1</td>\n",
       "      <td>0</td>\n",
       "      <td>3</td>\n",
       "      <td>Male</td>\n",
       "      <td>22.0</td>\n",
       "      <td>1</td>\n",
       "      <td>0</td>\n",
       "      <td>7.2500</td>\n",
       "      <td>3</td>\n",
       "    </tr>\n",
       "    <tr>\n",
       "      <th>1</th>\n",
       "      <td>2</td>\n",
       "      <td>1</td>\n",
       "      <td>1</td>\n",
       "      <td>female</td>\n",
       "      <td>38.0</td>\n",
       "      <td>1</td>\n",
       "      <td>0</td>\n",
       "      <td>71.2833</td>\n",
       "      <td>1</td>\n",
       "    </tr>\n",
       "    <tr>\n",
       "      <th>2</th>\n",
       "      <td>3</td>\n",
       "      <td>1</td>\n",
       "      <td>3</td>\n",
       "      <td>female</td>\n",
       "      <td>26.0</td>\n",
       "      <td>0</td>\n",
       "      <td>0</td>\n",
       "      <td>7.9250</td>\n",
       "      <td>3</td>\n",
       "    </tr>\n",
       "    <tr>\n",
       "      <th>3</th>\n",
       "      <td>4</td>\n",
       "      <td>1</td>\n",
       "      <td>1</td>\n",
       "      <td>female</td>\n",
       "      <td>35.0</td>\n",
       "      <td>1</td>\n",
       "      <td>0</td>\n",
       "      <td>53.1000</td>\n",
       "      <td>3</td>\n",
       "    </tr>\n",
       "    <tr>\n",
       "      <th>4</th>\n",
       "      <td>5</td>\n",
       "      <td>0</td>\n",
       "      <td>3</td>\n",
       "      <td>Male</td>\n",
       "      <td>35.0</td>\n",
       "      <td>0</td>\n",
       "      <td>0</td>\n",
       "      <td>8.0500</td>\n",
       "      <td>3</td>\n",
       "    </tr>\n",
       "  </tbody>\n",
       "</table>\n",
       "</div>"
      ],
      "text/plain": [
       "   PassengerId  Survived  Pclass     Sex   Age  SibSp  Parch     Fare  \\\n",
       "0            1         0       3    Male  22.0      1      0   7.2500   \n",
       "1            2         1       1  female  38.0      1      0  71.2833   \n",
       "2            3         1       3  female  26.0      0      0   7.9250   \n",
       "3            4         1       1  female  35.0      1      0  53.1000   \n",
       "4            5         0       3    Male  35.0      0      0   8.0500   \n",
       "\n",
       "   Embarked  \n",
       "0         3  \n",
       "1         1  \n",
       "2         3  \n",
       "3         3  \n",
       "4         3  "
      ]
     },
     "execution_count": 44,
     "metadata": {},
     "output_type": "execute_result"
    }
   ],
   "source": [
    "data.head()"
   ]
  },
  {
   "cell_type": "markdown",
   "id": "d1813d26",
   "metadata": {},
   "source": [
    "displaying all the columns"
   ]
  },
  {
   "cell_type": "code",
   "execution_count": 45,
   "id": "1e170a8b",
   "metadata": {},
   "outputs": [
    {
     "data": {
      "text/plain": [
       "Index(['PassengerId', 'Survived', 'Pclass', 'Sex', 'Age', 'SibSp', 'Parch',\n",
       "       'Fare', 'Embarked'],\n",
       "      dtype='object')"
      ]
     },
     "execution_count": 45,
     "metadata": {},
     "output_type": "execute_result"
    }
   ],
   "source": [
    "data.columns"
   ]
  },
  {
   "cell_type": "markdown",
   "id": "ac50139f",
   "metadata": {},
   "source": [
    "checking the data types of the columns"
   ]
  },
  {
   "cell_type": "code",
   "execution_count": 46,
   "id": "d1b81361",
   "metadata": {},
   "outputs": [
    {
     "data": {
      "text/plain": [
       "PassengerId      int64\n",
       "Survived         int64\n",
       "Pclass           int64\n",
       "Sex             object\n",
       "Age            float64\n",
       "SibSp            int64\n",
       "Parch            int64\n",
       "Fare           float64\n",
       "Embarked         int64\n",
       "dtype: object"
      ]
     },
     "execution_count": 46,
     "metadata": {},
     "output_type": "execute_result"
    }
   ],
   "source": [
    "data.dtypes"
   ]
  },
  {
   "cell_type": "markdown",
   "id": "8850734c",
   "metadata": {},
   "source": [
    "converting the 'Survived' column which is in int datatype into categorical column, where 0=not survived and 1=survived"
   ]
  },
  {
   "cell_type": "code",
   "execution_count": 47,
   "id": "5171c191",
   "metadata": {},
   "outputs": [],
   "source": [
    "data['Survived']=data.Survived.map({0:'Not Survived',1:'Survived'})"
   ]
  },
  {
   "cell_type": "markdown",
   "id": "c4a0d2b5",
   "metadata": {},
   "source": [
    "converting the 'PClass' column which is in int datatype into categorical column, where\n",
    "1=First Class  ,  2=Second Class  and 3=Third Class"
   ]
  },
  {
   "cell_type": "code",
   "execution_count": 48,
   "id": "803a9494",
   "metadata": {},
   "outputs": [],
   "source": [
    "data['Pclass']=data.Pclass.map({1:'First Class',2:'Second Class',3:'Third Class'})"
   ]
  },
  {
   "cell_type": "markdown",
   "id": "542ac378",
   "metadata": {},
   "source": [
    "converting the 'Embarked' column which is in int datatype into categorical column, where\n",
    "1=Cherbourg , 2=Queenstown  and 3=Saouthampton"
   ]
  },
  {
   "cell_type": "code",
   "execution_count": 49,
   "id": "ac58158c",
   "metadata": {},
   "outputs": [],
   "source": [
    "data['Embarked']=data.Embarked.map({1:'Cherbourg',2:'Queenstown',3:'Southampton'})"
   ]
  },
  {
   "cell_type": "markdown",
   "id": "7feaf760",
   "metadata": {},
   "source": [
    "now lets display the first five rows and the data type of the columns after the changes"
   ]
  },
  {
   "cell_type": "code",
   "execution_count": 50,
   "id": "358393d4",
   "metadata": {},
   "outputs": [
    {
     "data": {
      "text/html": [
       "<div>\n",
       "<style scoped>\n",
       "    .dataframe tbody tr th:only-of-type {\n",
       "        vertical-align: middle;\n",
       "    }\n",
       "\n",
       "    .dataframe tbody tr th {\n",
       "        vertical-align: top;\n",
       "    }\n",
       "\n",
       "    .dataframe thead th {\n",
       "        text-align: right;\n",
       "    }\n",
       "</style>\n",
       "<table border=\"1\" class=\"dataframe\">\n",
       "  <thead>\n",
       "    <tr style=\"text-align: right;\">\n",
       "      <th></th>\n",
       "      <th>PassengerId</th>\n",
       "      <th>Survived</th>\n",
       "      <th>Pclass</th>\n",
       "      <th>Sex</th>\n",
       "      <th>Age</th>\n",
       "      <th>SibSp</th>\n",
       "      <th>Parch</th>\n",
       "      <th>Fare</th>\n",
       "      <th>Embarked</th>\n",
       "    </tr>\n",
       "  </thead>\n",
       "  <tbody>\n",
       "    <tr>\n",
       "      <th>0</th>\n",
       "      <td>1</td>\n",
       "      <td>Not Survived</td>\n",
       "      <td>Third Class</td>\n",
       "      <td>Male</td>\n",
       "      <td>22.0</td>\n",
       "      <td>1</td>\n",
       "      <td>0</td>\n",
       "      <td>7.2500</td>\n",
       "      <td>Southampton</td>\n",
       "    </tr>\n",
       "    <tr>\n",
       "      <th>1</th>\n",
       "      <td>2</td>\n",
       "      <td>Survived</td>\n",
       "      <td>First Class</td>\n",
       "      <td>female</td>\n",
       "      <td>38.0</td>\n",
       "      <td>1</td>\n",
       "      <td>0</td>\n",
       "      <td>71.2833</td>\n",
       "      <td>Cherbourg</td>\n",
       "    </tr>\n",
       "    <tr>\n",
       "      <th>2</th>\n",
       "      <td>3</td>\n",
       "      <td>Survived</td>\n",
       "      <td>Third Class</td>\n",
       "      <td>female</td>\n",
       "      <td>26.0</td>\n",
       "      <td>0</td>\n",
       "      <td>0</td>\n",
       "      <td>7.9250</td>\n",
       "      <td>Southampton</td>\n",
       "    </tr>\n",
       "    <tr>\n",
       "      <th>3</th>\n",
       "      <td>4</td>\n",
       "      <td>Survived</td>\n",
       "      <td>First Class</td>\n",
       "      <td>female</td>\n",
       "      <td>35.0</td>\n",
       "      <td>1</td>\n",
       "      <td>0</td>\n",
       "      <td>53.1000</td>\n",
       "      <td>Southampton</td>\n",
       "    </tr>\n",
       "    <tr>\n",
       "      <th>4</th>\n",
       "      <td>5</td>\n",
       "      <td>Not Survived</td>\n",
       "      <td>Third Class</td>\n",
       "      <td>Male</td>\n",
       "      <td>35.0</td>\n",
       "      <td>0</td>\n",
       "      <td>0</td>\n",
       "      <td>8.0500</td>\n",
       "      <td>Southampton</td>\n",
       "    </tr>\n",
       "  </tbody>\n",
       "</table>\n",
       "</div>"
      ],
      "text/plain": [
       "   PassengerId      Survived       Pclass     Sex   Age  SibSp  Parch  \\\n",
       "0            1  Not Survived  Third Class    Male  22.0      1      0   \n",
       "1            2      Survived  First Class  female  38.0      1      0   \n",
       "2            3      Survived  Third Class  female  26.0      0      0   \n",
       "3            4      Survived  First Class  female  35.0      1      0   \n",
       "4            5  Not Survived  Third Class    Male  35.0      0      0   \n",
       "\n",
       "      Fare     Embarked  \n",
       "0   7.2500  Southampton  \n",
       "1  71.2833    Cherbourg  \n",
       "2   7.9250  Southampton  \n",
       "3  53.1000  Southampton  \n",
       "4   8.0500  Southampton  "
      ]
     },
     "execution_count": 50,
     "metadata": {},
     "output_type": "execute_result"
    }
   ],
   "source": [
    "data.head()"
   ]
  },
  {
   "cell_type": "code",
   "execution_count": 51,
   "id": "19ba2f2d",
   "metadata": {},
   "outputs": [
    {
     "data": {
      "text/plain": [
       "PassengerId      int64\n",
       "Survived        object\n",
       "Pclass          object\n",
       "Sex             object\n",
       "Age            float64\n",
       "SibSp            int64\n",
       "Parch            int64\n",
       "Fare           float64\n",
       "Embarked        object\n",
       "dtype: object"
      ]
     },
     "execution_count": 51,
     "metadata": {},
     "output_type": "execute_result"
    }
   ],
   "source": [
    "data.dtypes"
   ]
  },
  {
   "cell_type": "markdown",
   "id": "0a5793d5",
   "metadata": {},
   "source": [
    "#### lets create a countplot to display the number of male and female passangers on board"
   ]
  },
  {
   "cell_type": "code",
   "execution_count": 52,
   "id": "e72fe2cc",
   "metadata": {},
   "outputs": [
    {
     "data": {
      "text/plain": [
       "Text(0.5, 1.0, 'Count of passangers as per gender')"
      ]
     },
     "execution_count": 52,
     "metadata": {},
     "output_type": "execute_result"
    },
    {
     "data": {
      "image/png": "[encoded data removed]",
      "text/plain": [
       "<Figure size 432x288 with 1 Axes>"
      ]
     },
     "metadata": {},
     "output_type": "display_data"
    }
   ],
   "source": [
    "ax=sns.countplot(x='Sex',data=data)\n",
    "plt.title('Count of passangers as per gender')\n"
   ]
  },
  {
   "cell_type": "markdown",
   "id": "1cbc38de",
   "metadata": {},
   "source": [
    "from this above plot , we can infer that there were more number of Male passangers on board then Female passangers"
   ]
  },
  {
   "cell_type": "markdown",
   "id": "98f74c88",
   "metadata": {},
   "source": [
    "#### lets create a plot that displays the number of male and female passanges survived"
   ]
  },
  {
   "cell_type": "code",
   "execution_count": 53,
   "id": "658ca84e",
   "metadata": {},
   "outputs": [
    {
     "data": {
      "text/plain": [
       "Text(0.5, 1.0, 'Count of Survived/Non Survived')"
      ]
     },
     "execution_count": 53,
     "metadata": {},
     "output_type": "execute_result"
    },
    {
     "data": {
      "image/png": "[encoded data removed]",
      "text/plain": [
       "<Figure size 432x288 with 1 Axes>"
      ]
     },
     "metadata": {},
     "output_type": "display_data"
    }
   ],
   "source": [
    "sns.countplot(x='Survived',data=data,hue='Sex')\n",
    "plt.title('Count of Survived/Non Survived')\n"
   ]
  },
  {
   "cell_type": "markdown",
   "id": "52aa8238",
   "metadata": {},
   "source": [
    "from this above plot we can infer that more 'Female' passangers survived in comparison to the 'Male' passangers on board. Also we can see that large number of 'Male' passanges did not survive"
   ]
  },
  {
   "cell_type": "markdown",
   "id": "ad0ba32a",
   "metadata": {},
   "source": [
    "#### creating a countplot which displays the number of passangers based on their class of Travel"
   ]
  },
  {
   "cell_type": "code",
   "execution_count": 54,
   "id": "37d174d6",
   "metadata": {},
   "outputs": [
    {
     "data": {
      "text/plain": [
       "Text(0.5, 1.0, 'Class of Travel as per Gender')"
      ]
     },
     "execution_count": 54,
     "metadata": {},
     "output_type": "execute_result"
    },
    {
     "data": {
      "image/png": "[encoded data removed]",
      "text/plain": [
       "<Figure size 432x288 with 1 Axes>"
      ]
     },
     "metadata": {},
     "output_type": "display_data"
    }
   ],
   "source": [
    "sns.countplot(x='Pclass',data=data,hue='Sex')\n",
    "plt.title('Class of Travel as per Gender')"
   ]
  },
  {
   "cell_type": "markdown",
   "id": "e9584a6a",
   "metadata": {},
   "source": [
    "we can infer that in every class there are more number of Male passangers than Female passangers"
   ]
  },
  {
   "cell_type": "markdown",
   "id": "75742f6b",
   "metadata": {},
   "source": [
    "#### creating a countplot that displays the count of passangers based on their port of embarked"
   ]
  },
  {
   "cell_type": "code",
   "execution_count": 55,
   "id": "bcb7bb5b",
   "metadata": {},
   "outputs": [
    {
     "data": {
      "text/plain": [
       "Text(0.5, 0, 'Port')"
      ]
     },
     "execution_count": 55,
     "metadata": {},
     "output_type": "execute_result"
    },
    {
     "data": {
      "image/png": "[encoded data removed]",
      "text/plain": [
       "<Figure size 432x288 with 1 Axes>"
      ]
     },
     "metadata": {},
     "output_type": "display_data"
    }
   ],
   "source": [
    "sns.countplot(x='Embarked',data=data)\n",
    "plt.title('Port of Embarked')\n",
    "plt.xlabel('Port')"
   ]
  },
  {
   "cell_type": "markdown",
   "id": "94391a2b",
   "metadata": {},
   "source": [
    "from this we can infer that most number of passangers have port of embarked as Southampton"
   ]
  },
  {
   "cell_type": "markdown",
   "id": "d942e04f",
   "metadata": {},
   "source": [
    "#### lets check if there is any relation between the fare paid by the passanger and the Class of Travel that they prefered"
   ]
  },
  {
   "cell_type": "code",
   "execution_count": 56,
   "id": "5a66b42d",
   "metadata": {},
   "outputs": [
    {
     "data": {
      "text/plain": [
       "Text(0.5, 1.0, 'Relation between Fare and Class of Travel of passangers')"
      ]
     },
     "execution_count": 56,
     "metadata": {},
     "output_type": "execute_result"
    },
    {
     "data": {
      "image/png": "[encoded data removed]",
      "text/plain": [
       "<Figure size 432x288 with 1 Axes>"
      ]
     },
     "metadata": {},
     "output_type": "display_data"
    }
   ],
   "source": [
    "plt.scatter(x='Pclass',y='Fare',data=data)\n",
    "plt.title('Relation between Fare and Class of Travel of passangers')"
   ]
  },
  {
   "cell_type": "markdown",
   "id": "002ecddb",
   "metadata": {},
   "source": [
    "from this we can infer that passangers who travelled by first class paid extra amount than those with second and third class of travel"
   ]
  },
  {
   "cell_type": "code",
   "execution_count": null,
   "id": "1808a6cc",
   "metadata": {},
   "outputs": [],
   "source": []
  }
 ],
 "metadata": {
  "kernelspec": {
   "display_name": "Python 3",
   "language": "python",
   "name": "python3"
  },
  "language_info": {
   "codemirror_mode": {
    "name": "ipython",
    "version": 3
   },
   "file_extension": ".py",
   "mimetype": "text/x-python",
   "name": "python",
   "nbconvert_exporter": "python",
   "pygments_lexer": "ipython3",
   "version": "3.8.8"
  }
 },
 "nbformat": 4,
 "nbformat_minor": 5
}
